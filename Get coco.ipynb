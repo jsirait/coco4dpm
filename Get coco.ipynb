{
 "cells": [
  {
   "cell_type": "markdown",
   "id": "e7ddefb2-9c4d-4df8-abd9-6861b94df861",
   "metadata": {},
   "source": [
    "# Sampling CoCo image dataset to train and use DPM on"
   ]
  },
  {
   "cell_type": "code",
   "execution_count": 44,
   "id": "6da36d64-6128-45cb-b8d2-2ea7406e4cec",
   "metadata": {},
   "outputs": [],
   "source": [
    "import json\n",
    "import random\n",
    "from pycocotools.coco import COCO\n",
    "import requests\n",
    "import os\n",
    "import shutil\n",
    "\n",
    "from xml.etree.ElementTree import Element, SubElement, ElementTree, tostring \n",
    "from xml.dom.minidom import parseString "
   ]
  },
  {
   "cell_type": "markdown",
   "id": "1b918360-a1d4-46e9-b470-39a4c5adaaaf",
   "metadata": {},
   "source": [
    "We clear the folders beforehand"
   ]
  },
  {
   "cell_type": "code",
   "execution_count": 32,
   "id": "c567d57c-0c30-445b-a67a-8833e7bf3646",
   "metadata": {},
   "outputs": [],
   "source": [
    "def clear_folder(folder_path):\n",
    "    \"\"\"\n",
    "    Clears all files and subdirectories in the specified folder.\n",
    "\n",
    "    Args:\n",
    "        folder_path (str): Path to the folder to clear.\n",
    "    \"\"\"\n",
    "    if os.path.exists(folder_path):\n",
    "        # Remove all contents of the folder\n",
    "        for filename in os.listdir(folder_path):\n",
    "            file_path = os.path.join(folder_path, filename)\n",
    "            try:\n",
    "                if os.path.isfile(file_path) or os.path.islink(file_path):\n",
    "                    os.unlink(file_path)  # Remove file or symbolic link\n",
    "                elif os.path.isdir(file_path):\n",
    "                    shutil.rmtree(file_path)  # Remove directory\n",
    "            except Exception as e:\n",
    "                print(f\"Failed to delete {file_path}. Reason: {e}\")\n",
    "    else:\n",
    "        # If folder doesn't exist, create it\n",
    "        os.makedirs(folder_path)\n"
   ]
  },
  {
   "cell_type": "markdown",
   "id": "075e61ca-2ac6-4ac9-888b-fce440662479",
   "metadata": {},
   "source": [
    "Helper function to make PASCAL VOC-style XML annotations."
   ]
  },
  {
   "cell_type": "code",
   "execution_count": 56,
   "id": "a18cff47-6c2f-4d79-b8cd-3a3173aaeaf3",
   "metadata": {},
   "outputs": [],
   "source": [
    "# Function to create Pascal-style XML annotations\n",
    "def create_pascal_xml(img_info, annotations, output_annotation_dir):\n",
    "    xml_root = Element('annotation')\n",
    "    folder = SubElement(xml_root, 'folder')\n",
    "    folder.text = 'VOC_COCO'\n",
    "\n",
    "    filename = SubElement(xml_root, 'filename')\n",
    "    filename.text = img_info['file_name']\n",
    "\n",
    "    size = SubElement(xml_root, 'size')\n",
    "    SubElement(size, 'width').text = str(img_info['width'])\n",
    "    SubElement(size, 'height').text = str(img_info['height'])\n",
    "    SubElement(size, 'depth').text = '3'  # Assuming RGB images\n",
    "\n",
    "    for ann in annotations:\n",
    "        obj = SubElement(xml_root, 'object')\n",
    "        name = SubElement(obj, 'name')\n",
    "        name.text = 'person'  # Category name\n",
    "\n",
    "        # Pose (defaulted to 'Unspecified')\n",
    "        pose = SubElement(obj, 'pose')\n",
    "        pose.text = 'Unspecified'\n",
    "\n",
    "        # Truncated (default 0, set to 1 if bbox exceeds image boundaries)\n",
    "        truncated = SubElement(obj, 'truncated')\n",
    "        bbox = ann['bbox']  # COCO format: [xmin, ymin, width, height]\n",
    "        x_min = bbox[0]\n",
    "        y_min = bbox[1]\n",
    "        x_max = bbox[0] + bbox[2]\n",
    "        y_max = bbox[1] + bbox[3]\n",
    "        is_truncated = (\n",
    "            x_min < 0 or y_min < 0 or x_max > img_info['width'] or y_max > img_info['height']\n",
    "        )\n",
    "        truncated.text = '1' if is_truncated else '0'\n",
    "        # TODO: record how many truncated image data points we have? \n",
    "\n",
    "        # Bounding box\n",
    "        bndbox = SubElement(obj, 'bndbox')\n",
    "        SubElement(bndbox, 'xmin').text = str(max(0, int(x_min)))  # Clip to image boundaries\n",
    "        SubElement(bndbox, 'ymin').text = str(max(0, int(y_min)))\n",
    "        SubElement(bndbox, 'xmax').text = str(min(img_info['width'], int(x_max)))\n",
    "        SubElement(bndbox, 'ymax').text = str(min(img_info['height'], int(y_max)))\n",
    "\n",
    "        # Keypoints (optional)\n",
    "        keypoints_elem = SubElement(obj, 'keypoints')\n",
    "        keypoints = ann.get('keypoints', [])\n",
    "        # if keypoints:\n",
    "        #     print(f\"image {img_info['file_name']} has keypoints\")\n",
    "        # else:\n",
    "        #     print(f\"image {img_info['file_name']} does NOT have keypoints\")\n",
    "        for i in range(0, len(keypoints), 3):\n",
    "            kp_x, kp_y, visibility = keypoints[i:i+3]\n",
    "            keypoint = SubElement(keypoints_elem, 'keypoint')\n",
    "            SubElement(keypoint, 'x').text = str(int(kp_x)) if visibility > 0 else 'NaN'\n",
    "            SubElement(keypoint, 'y').text = str(int(kp_y)) if visibility > 0 else 'NaN'\n",
    "            SubElement(keypoint, 'visibility').text = str(visibility)\n",
    "\n",
    "    # Pretty format \n",
    "    asstring = tostring(xml_root, 'utf-8')\n",
    "    parsed_xml = parseString(asstring)\n",
    "    pretty_xml = parsed_xml.toprettyxml(indent=\"    \")\n",
    "\n",
    "    # Save XML\n",
    "    output_file = os.path.join(output_annotation_dir, f\"{img_info['file_name'].split('.')[0]}.xml\")\n",
    "    # tree = ElementTree(xml_root)\n",
    "    # tree.write(output_file)\n",
    "    with open(output_file, 'w') as f:\n",
    "        f.write(pretty_xml)"
   ]
  },
  {
   "cell_type": "code",
   "execution_count": 61,
   "id": "1a5c56e7-86fb-463d-baa5-40a232d25fa0",
   "metadata": {},
   "outputs": [],
   "source": [
    "# downloading 2000 images of training data for category person\n",
    "# Paths\n",
    "annotation_file = 'annotations/person_keypoints_train2017.json'  # Update with your COCO annotation file path\n",
    "output_dir = 'coco_output'  # Folder to save downloaded images\n",
    "annotations_dir = os.path.join(output_dir, 'Annotations')\n",
    "sets_dir = os.path.join(output_dir, 'ImageSets', 'Main')\n",
    "images_dir = os.path.join(output_dir, 'JPEGImages')\n",
    "# os.makedirs(output_dir, exist_ok=True)\n",
    "\n",
    "# Number of images to sample\n",
    "num_images = 10"
   ]
  },
  {
   "cell_type": "code",
   "execution_count": 62,
   "id": "8ea139a1-293a-4471-bc5b-7f047f06dfc2",
   "metadata": {},
   "outputs": [
    {
     "name": "stdout",
     "output_type": "stream",
     "text": [
      "loading annotations into memory...\n",
      "Done (t=8.12s)\n",
      "creating index...\n",
      "index created!\n"
     ]
    }
   ],
   "source": [
    "# Load COCO annotations\n",
    "coco = COCO(annotation_file)"
   ]
  },
  {
   "cell_type": "code",
   "execution_count": 63,
   "id": "cf39d597-e302-4df1-b760-2f1273d24bd0",
   "metadata": {},
   "outputs": [],
   "source": [
    "# Get category ID for 'person'\n",
    "person_category_id = coco.getCatIds(catNms=['person'])[0]\n",
    "\n",
    "# Get all image IDs containing persons\n",
    "person_image_ids = coco.getImgIds(catIds=[person_category_id])"
   ]
  },
  {
   "cell_type": "code",
   "execution_count": 64,
   "id": "b7c06c91-625f-493d-900c-34cb00214db5",
   "metadata": {},
   "outputs": [],
   "source": [
    "# Setting number of images & instances to be sampled\n",
    "# sampled_image_ids = random.sample(person_image_ids, num_images)\n",
    "instance_target = 50\n",
    "image_count = 0\n",
    "\n",
    "# Randomly sample images and instances\n",
    "random.seed(429)\n",
    "random.shuffle(person_image_ids)\n",
    "selected_image_ids = []\n",
    "instance_count = 0\n",
    "\n",
    "for img_id in person_image_ids:\n",
    "    ann_ids = coco.getAnnIds(imgIds=[img_id], catIds=[person_category_id])\n",
    "    person_count = len(ann_ids)  # in this image\n",
    "\n",
    "    if instance_count + person_count < instance_target:\n",
    "        selected_image_ids.append(img_id)\n",
    "        instance_count += person_count\n",
    "    else:\n",
    "        break  # target instances fulfilled "
   ]
  },
  {
   "cell_type": "code",
   "execution_count": 65,
   "id": "6101c07d-d78b-4c5e-b101-24426601c9ec",
   "metadata": {},
   "outputs": [
    {
     "data": {
      "text/plain": [
       "14"
      ]
     },
     "execution_count": 65,
     "metadata": {},
     "output_type": "execute_result"
    }
   ],
   "source": [
    "len(selected_image_ids)"
   ]
  },
  {
   "cell_type": "code",
   "execution_count": 66,
   "id": "b92c82f4-8562-49a3-a324-c4199f26630a",
   "metadata": {
    "editable": true,
    "slideshow": {
     "slide_type": ""
    },
    "tags": []
   },
   "outputs": [
    {
     "name": "stdout",
     "output_type": "stream",
     "text": [
      "image 000000155268.jpg has keypoints\n",
      "image 000000155268.jpg has keypoints\n",
      "Downloaded 000000155268.jpg\n",
      "image 000000407626.jpg has keypoints\n",
      "Downloaded 000000407626.jpg\n",
      "image 000000181886.jpg has keypoints\n",
      "image 000000181886.jpg has keypoints\n",
      "image 000000181886.jpg has keypoints\n",
      "Downloaded 000000181886.jpg\n",
      "image 000000263041.jpg has keypoints\n",
      "image 000000263041.jpg has keypoints\n",
      "image 000000263041.jpg has keypoints\n",
      "Downloaded 000000263041.jpg\n",
      "image 000000358767.jpg has keypoints\n",
      "Downloaded 000000358767.jpg\n",
      "image 000000568956.jpg has keypoints\n",
      "image 000000568956.jpg has keypoints\n",
      "image 000000568956.jpg has keypoints\n",
      "image 000000568956.jpg has keypoints\n",
      "Downloaded 000000568956.jpg\n",
      "image 000000256431.jpg has keypoints\n",
      "image 000000256431.jpg has keypoints\n",
      "image 000000256431.jpg has keypoints\n",
      "image 000000256431.jpg has keypoints\n",
      "image 000000256431.jpg has keypoints\n",
      "image 000000256431.jpg has keypoints\n",
      "Downloaded 000000256431.jpg\n",
      "image 000000052281.jpg has keypoints\n",
      "Downloaded 000000052281.jpg\n",
      "image 000000358608.jpg has keypoints\n",
      "Downloaded 000000358608.jpg\n",
      "image 000000373198.jpg has keypoints\n",
      "image 000000373198.jpg has keypoints\n",
      "image 000000373198.jpg has keypoints\n",
      "image 000000373198.jpg has keypoints\n",
      "Downloaded 000000373198.jpg\n",
      "image 000000077055.jpg has keypoints\n",
      "image 000000077055.jpg has keypoints\n",
      "image 000000077055.jpg has keypoints\n",
      "image 000000077055.jpg has keypoints\n",
      "image 000000077055.jpg has keypoints\n",
      "image 000000077055.jpg has keypoints\n",
      "image 000000077055.jpg has keypoints\n",
      "image 000000077055.jpg has keypoints\n",
      "Downloaded 000000077055.jpg\n",
      "image 000000180650.jpg has keypoints\n",
      "image 000000180650.jpg has keypoints\n",
      "image 000000180650.jpg has keypoints\n",
      "image 000000180650.jpg has keypoints\n",
      "image 000000180650.jpg has keypoints\n",
      "Downloaded 000000180650.jpg\n",
      "image 000000011029.jpg has keypoints\n",
      "image 000000011029.jpg has keypoints\n",
      "Downloaded 000000011029.jpg\n",
      "image 000000143024.jpg has keypoints\n",
      "image 000000143024.jpg has keypoints\n",
      "image 000000143024.jpg has keypoints\n",
      "image 000000143024.jpg has keypoints\n",
      "image 000000143024.jpg has keypoints\n",
      "Downloaded 000000143024.jpg\n",
      "Downloaded 10 person images to coco_output\n"
     ]
    }
   ],
   "source": [
    "# To freshly download (erase existing data) \n",
    "clear_folder(annotations_dir)\n",
    "clear_folder(sets_dir)\n",
    "clear_folder(images_dir)\n",
    "\n",
    "# Download sampled images\n",
    "for img_id in selected_image_ids:\n",
    "    # load image info and annotations\n",
    "    img_info = coco.loadImgs(img_id)[0]\n",
    "    ann_ids = coco.getAnnIds(imgIds=[img_id], catIds=[person_category_id])\n",
    "    annotations = coco.loadAnns(ann_ids)\n",
    "\n",
    "    # download image\n",
    "    img_url = img_info['coco_url']\n",
    "    img_filename = os.path.join(output_dir, 'JPEGImages', img_info['file_name'])\n",
    "    \n",
    "    # Download image\n",
    "    response = requests.get(img_url, stream=True)\n",
    "    if response.status_code == 200:\n",
    "        with open(img_filename, 'wb') as f:\n",
    "            for chunk in response.iter_content(1024):\n",
    "                f.write(chunk)\n",
    "        # if image downloaded then we save the annotation\n",
    "        create_pascal_xml(img_info, annotations, annotations_dir)\n",
    "        print(f\"Downloaded {img_info['file_name']}\")\n",
    "\n",
    "print(f\"Downloaded {num_images} person images to {output_dir}\")"
   ]
  },
  {
   "cell_type": "code",
   "execution_count": null,
   "id": "5f8b21a0-6c60-40c7-b9ca-845903f117a2",
   "metadata": {},
   "outputs": [],
   "source": []
  }
 ],
 "metadata": {
  "kernelspec": {
   "display_name": "cos429",
   "language": "python",
   "name": "cos429"
  },
  "language_info": {
   "codemirror_mode": {
    "name": "ipython",
    "version": 3
   },
   "file_extension": ".py",
   "mimetype": "text/x-python",
   "name": "python",
   "nbconvert_exporter": "python",
   "pygments_lexer": "ipython3",
   "version": "3.8.18"
  }
 },
 "nbformat": 4,
 "nbformat_minor": 5
}
