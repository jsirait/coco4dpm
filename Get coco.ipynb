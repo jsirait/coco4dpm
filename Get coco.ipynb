{
 "cells": [
  {
   "cell_type": "code",
   "execution_count": 17,
   "id": "6da36d64-6128-45cb-b8d2-2ea7406e4cec",
   "metadata": {},
   "outputs": [],
   "source": [
    "import json\n",
    "import random\n",
    "from pycocotools.coco import COCO\n",
    "import requests\n",
    "import os\n",
    "\n",
    "from xml.etree.ElementTree import Element, SubElement, ElementTree"
   ]
  },
  {
   "cell_type": "markdown",
   "id": "075e61ca-2ac6-4ac9-888b-fce440662479",
   "metadata": {},
   "source": [
    "Helper function to make PASCAL VOC-style XML annotations."
   ]
  },
  {
   "cell_type": "code",
   "execution_count": 18,
   "id": "a18cff47-6c2f-4d79-b8cd-3a3173aaeaf3",
   "metadata": {},
   "outputs": [],
   "source": [
    "# Function to create Pascal-style XML annotations\n",
    "def create_pascal_xml(img_info, annotations, output_annotation_dir):\n",
    "    xml_root = Element('annotation')\n",
    "    folder = SubElement(xml_root, 'folder')\n",
    "    folder.text = 'VOC_COCO'\n",
    "\n",
    "    filename = SubElement(xml_root, 'filename')\n",
    "    filename.text = img_info['file_name']\n",
    "\n",
    "    size = SubElement(xml_root, 'size')\n",
    "    SubElement(size, 'width').text = str(img_info['width'])\n",
    "    SubElement(size, 'height').text = str(img_info['height'])\n",
    "    SubElement(size, 'depth').text = '3'  # Assuming RGB images\n",
    "\n",
    "    for ann in annotations:\n",
    "        obj = SubElement(xml_root, 'object')\n",
    "        name = SubElement(obj, 'name')\n",
    "        name.text = 'person'  # Category name\n",
    "\n",
    "        bndbox = SubElement(obj, 'bndbox')\n",
    "        bbox = ann['bbox']  # COCO format: [xmin, ymin, width, height]\n",
    "        x_min = int(bbox[0])\n",
    "        y_min = int(bbox[1])\n",
    "        x_max = int(bbox[0] + bbox[2])\n",
    "        y_max = int(bbox[1] + bbox[3])\n",
    "        SubElement(bndbox, 'xmin').text = str(x_min)\n",
    "        SubElement(bndbox, 'ymin').text = str(y_min)\n",
    "        SubElement(bndbox, 'xmax').text = str(x_max)\n",
    "        SubElement(bndbox, 'ymax').text = str(y_max)\n",
    "\n",
    "        # Add keypoints\n",
    "        keypoints_elem = SubElement(obj, 'keypoints')\n",
    "        keypoints = ann.get('keypoints', [])\n",
    "        for i in range(0, len(keypoints), 3):\n",
    "            kp_x = int(keypoints[i])\n",
    "            kp_y = int(keypoints[i + 1])\n",
    "            visibility = int(keypoints[i + 2])  # Visibility flag\n",
    "            keypoint = SubElement(keypoints_elem, 'keypoint')\n",
    "            SubElement(keypoint, 'x').text = str(kp_x) if visibility > 0 else 'NaN'\n",
    "            SubElement(keypoint, 'y').text = str(kp_y) if visibility > 0 else 'NaN'\n",
    "            SubElement(keypoint, 'visibility').text = str(visibility)\n",
    "\n",
    "    # Save XML\n",
    "    output_file = os.path.join(output_annotation_dir, f\"{img_info['file_name'].split('.')[0]}.xml\")\n",
    "    tree = ElementTree(xml_root)\n",
    "    tree.write(output_file)"
   ]
  },
  {
   "cell_type": "code",
   "execution_count": 19,
   "id": "1a5c56e7-86fb-463d-baa5-40a232d25fa0",
   "metadata": {},
   "outputs": [],
   "source": [
    "# downloading 2000 images of training data for category person\n",
    "# Paths\n",
    "annotation_file = 'annotations/instances_train2017.json'  # Update with your COCO annotation file path\n",
    "output_dir = 'coco_output/'  # Folder to save downloaded images\n",
    "annotations_dir = os.path.join(output_dir, 'Annotations')\n",
    "sets_dir = os.path.join(output_dir, 'ImageSets', 'Main')\n",
    "images_dir = os.path.join(output_dir, 'JPEGImages')\n",
    "# os.makedirs(output_dir, exist_ok=True)\n",
    "\n",
    "# Number of images to sample\n",
    "num_images = 10"
   ]
  },
  {
   "cell_type": "code",
   "execution_count": 9,
   "id": "8ea139a1-293a-4471-bc5b-7f047f06dfc2",
   "metadata": {},
   "outputs": [
    {
     "name": "stdout",
     "output_type": "stream",
     "text": [
      "loading annotations into memory...\n",
      "Done (t=17.18s)\n",
      "creating index...\n",
      "index created!\n"
     ]
    }
   ],
   "source": [
    "# Load COCO annotations\n",
    "coco = COCO(annotation_file)"
   ]
  },
  {
   "cell_type": "code",
   "execution_count": 20,
   "id": "cf39d597-e302-4df1-b760-2f1273d24bd0",
   "metadata": {},
   "outputs": [],
   "source": [
    "# Get category ID for 'person'\n",
    "person_category_id = coco.getCatIds(catNms=['person'])[0]\n",
    "\n",
    "# Get all image IDs containing persons\n",
    "person_image_ids = coco.getImgIds(catIds=[person_category_id])"
   ]
  },
  {
   "cell_type": "code",
   "execution_count": 16,
   "id": "b92c82f4-8562-49a3-a324-c4199f26630a",
   "metadata": {},
   "outputs": [
    {
     "name": "stdout",
     "output_type": "stream",
     "text": [
      "Downloaded 000000015957.jpg\n",
      "Downloaded 000000127556.jpg\n",
      "Downloaded 000000494257.jpg\n",
      "Downloaded 000000206486.jpg\n",
      "Downloaded 000000578984.jpg\n",
      "Downloaded 000000103486.jpg\n",
      "Downloaded 000000014388.jpg\n",
      "Downloaded 000000416115.jpg\n",
      "Downloaded 000000175946.jpg\n",
      "Downloaded 000000009990.jpg\n",
      "Downloaded 10 person images to coco_output/\n"
     ]
    }
   ],
   "source": [
    "# Randomly sample 2000 images / 4100 instances\n",
    "sampled_image_ids = random.sample(person_image_ids, num_images)\n",
    "\n",
    "# Download sampled images\n",
    "for img_id in sampled_image_ids:\n",
    "    img_info = coco.loadImgs(img_id)[0]\n",
    "    img_url = img_info['coco_url']\n",
    "    img_filename = os.path.join(output_dir, 'JPEGImages', img_info['file_name'])\n",
    "    \n",
    "    # Download image\n",
    "    response = requests.get(img_url, stream=True)\n",
    "    if response.status_code == 200:\n",
    "        with open(img_filename, 'wb') as f:\n",
    "            for chunk in response.iter_content(1024):\n",
    "                f.write(chunk)\n",
    "    print(f\"Downloaded {img_info['file_name']}\")\n",
    "\n",
    "print(f\"Downloaded {num_images} person images to {output_dir}\")"
   ]
  },
  {
   "cell_type": "code",
   "execution_count": null,
   "id": "5f8b21a0-6c60-40c7-b9ca-845903f117a2",
   "metadata": {},
   "outputs": [],
   "source": []
  }
 ],
 "metadata": {
  "kernelspec": {
   "display_name": "cos429",
   "language": "python",
   "name": "cos429"
  },
  "language_info": {
   "codemirror_mode": {
    "name": "ipython",
    "version": 3
   },
   "file_extension": ".py",
   "mimetype": "text/x-python",
   "name": "python",
   "nbconvert_exporter": "python",
   "pygments_lexer": "ipython3",
   "version": "3.8.18"
  }
 },
 "nbformat": 4,
 "nbformat_minor": 5
}
