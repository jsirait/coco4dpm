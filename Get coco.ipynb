{
 "cells": [
  {
   "cell_type": "markdown",
   "id": "e7ddefb2-9c4d-4df8-abd9-6861b94df861",
   "metadata": {},
   "source": [
    "# Sampling CoCo image dataset to train and use DPM on"
   ]
  },
  {
   "cell_type": "code",
   "execution_count": 1,
   "id": "6da36d64-6128-45cb-b8d2-2ea7406e4cec",
   "metadata": {},
   "outputs": [],
   "source": [
    "import json\n",
    "import random\n",
    "from pycocotools.coco import COCO\n",
    "import requests\n",
    "import os\n",
    "import shutil\n",
    "from tqdm import tqdm\n",
    "\n",
    "from xml.etree.ElementTree import Element, SubElement, ElementTree, tostring \n",
    "from xml.dom.minidom import parseString "
   ]
  },
  {
   "cell_type": "markdown",
   "id": "1b918360-a1d4-46e9-b470-39a4c5adaaaf",
   "metadata": {},
   "source": [
    "We clear the folders beforehand"
   ]
  },
  {
   "cell_type": "code",
   "execution_count": 2,
   "id": "c567d57c-0c30-445b-a67a-8833e7bf3646",
   "metadata": {},
   "outputs": [],
   "source": [
    "def clear_folder(folder_path):\n",
    "    \"\"\"\n",
    "    Clears all files and subdirectories in the specified folder.\n",
    "\n",
    "    Args:\n",
    "        folder_path (str): Path to the folder to clear.\n",
    "    \"\"\"\n",
    "    if os.path.exists(folder_path):\n",
    "        # Remove all contents of the folder\n",
    "        for filename in os.listdir(folder_path):\n",
    "            file_path = os.path.join(folder_path, filename)\n",
    "            try:\n",
    "                if os.path.isfile(file_path) or os.path.islink(file_path):\n",
    "                    os.unlink(file_path)  # Remove file or symbolic link\n",
    "                elif os.path.isdir(file_path):\n",
    "                    shutil.rmtree(file_path)  # Remove directory\n",
    "            except Exception as e:\n",
    "                print(f\"Failed to delete {file_path}. Reason: {e}\")\n",
    "    else:\n",
    "        # If folder doesn't exist, create it\n",
    "        os.makedirs(folder_path)\n"
   ]
  },
  {
   "cell_type": "markdown",
   "id": "075e61ca-2ac6-4ac9-888b-fce440662479",
   "metadata": {},
   "source": [
    "Helper function to make PASCAL VOC-style XML annotations."
   ]
  },
  {
   "cell_type": "code",
   "execution_count": 3,
   "id": "a18cff47-6c2f-4d79-b8cd-3a3173aaeaf3",
   "metadata": {},
   "outputs": [],
   "source": [
    "# Function to create Pascal-style XML annotations\n",
    "def create_pascal_xml(img_info, annotations, output_annotation_dir):\n",
    "    xml_root = Element('annotation')\n",
    "    folder = SubElement(xml_root, 'folder')\n",
    "    folder.text = 'VOC_COCO'\n",
    "\n",
    "    filename = SubElement(xml_root, 'filename')\n",
    "    filename.text = img_info['file_name']\n",
    "\n",
    "    size = SubElement(xml_root, 'size')\n",
    "    SubElement(size, 'width').text = str(img_info['width'])\n",
    "    SubElement(size, 'height').text = str(img_info['height'])\n",
    "    SubElement(size, 'depth').text = '3'  # Assuming RGB images\n",
    "\n",
    "    for ann in annotations:\n",
    "        obj = SubElement(xml_root, 'object')\n",
    "        name = SubElement(obj, 'name')\n",
    "        name.text = 'person'  # Category name\n",
    "\n",
    "        # Pose (defaulted to 'Unspecified')\n",
    "        pose = SubElement(obj, 'pose')\n",
    "        pose.text = 'Unspecified'\n",
    "\n",
    "        # Truncated (default 0, set to 1 if bbox exceeds image boundaries)\n",
    "        truncated = SubElement(obj, 'truncated')\n",
    "        bbox = ann['bbox']  # COCO format: [xmin, ymin, width, height]\n",
    "        x_min = bbox[0]\n",
    "        y_min = bbox[1]\n",
    "        x_max = bbox[0] + bbox[2]\n",
    "        y_max = bbox[1] + bbox[3]\n",
    "        is_truncated = (\n",
    "            x_min < 0 or y_min < 0 or x_max > img_info['width'] or y_max > img_info['height']\n",
    "        )\n",
    "        truncated.text = '1' if is_truncated else '0'\n",
    "        # TODO: record how many truncated image data points we have? \n",
    "\n",
    "        # Bounding box\n",
    "        bndbox = SubElement(obj, 'bndbox')\n",
    "        SubElement(bndbox, 'xmin').text = str(max(0, int(x_min)))  # Clip to image boundaries\n",
    "        SubElement(bndbox, 'ymin').text = str(max(0, int(y_min)))\n",
    "        SubElement(bndbox, 'xmax').text = str(min(img_info['width'], int(x_max)))\n",
    "        SubElement(bndbox, 'ymax').text = str(min(img_info['height'], int(y_max)))\n",
    "\n",
    "        # # Keypoints (optional)\n",
    "        # keypoints_elem = SubElement(obj, 'keypoints')\n",
    "        # keypoints = ann.get('keypoints', [])\n",
    "        # # if keypoints:\n",
    "        # #     print(f\"image {img_info['file_name']} has keypoints\")\n",
    "        # # else:\n",
    "        # #     print(f\"image {img_info['file_name']} does NOT have keypoints\")\n",
    "        # for i in range(0, len(keypoints), 3):\n",
    "        #     kp_x, kp_y, visibility = keypoints[i:i+3]\n",
    "        #     keypoint = SubElement(keypoints_elem, 'keypoint')\n",
    "        #     SubElement(keypoint, 'x').text = str(int(kp_x)) if visibility > 0 else 'NaN'\n",
    "        #     SubElement(keypoint, 'y').text = str(int(kp_y)) if visibility > 0 else 'NaN'\n",
    "        #     SubElement(keypoint, 'visibility').text = str(visibility)\n",
    "\n",
    "    # Pretty format \n",
    "    asstring = tostring(xml_root, 'utf-8')\n",
    "    parsed_xml = parseString(asstring)\n",
    "    pretty_xml = parsed_xml.toprettyxml(indent=\"    \")\n",
    "\n",
    "    # Save XML\n",
    "    output_file = os.path.join(output_annotation_dir, f\"{img_info['file_name'].split('.')[0]}.xml\")\n",
    "    # tree = ElementTree(xml_root)\n",
    "    # tree.write(output_file)\n",
    "    with open(output_file, 'w') as f:\n",
    "        f.write(pretty_xml)"
   ]
  },
  {
   "cell_type": "code",
   "execution_count": 4,
   "id": "1a5c56e7-86fb-463d-baa5-40a232d25fa0",
   "metadata": {},
   "outputs": [],
   "source": [
    "# downloading 2000 images of training data for category person\n",
    "# Paths\n",
    "keypoints_annotation_file = 'annotations/person_keypoints_train2017.json'  # Update with your COCO annotation file path\n",
    "annotation_file = 'annotations/instances_train2017.json'  # Update with your COCO annotation file path\n",
    "output_dir = 'coco_output'  # Folder to save downloaded images\n",
    "annotations_dir = os.path.join(output_dir, 'Annotations')\n",
    "sets_dir = os.path.join(output_dir, 'ImageSets', 'Main')\n",
    "images_dir = os.path.join(output_dir, 'JPEGImages')\n",
    "# os.makedirs(output_dir, exist_ok=True)\n",
    "\n",
    "# Number of images to sample\n",
    "num_images = 10"
   ]
  },
  {
   "cell_type": "code",
   "execution_count": 5,
   "id": "8ea139a1-293a-4471-bc5b-7f047f06dfc2",
   "metadata": {},
   "outputs": [
    {
     "name": "stdout",
     "output_type": "stream",
     "text": [
      "loading annotations into memory...\n",
      "Done (t=12.51s)\n",
      "creating index...\n",
      "index created!\n"
     ]
    }
   ],
   "source": [
    "# Load COCO annotations\n",
    "coco = COCO(annotation_file)"
   ]
  },
  {
   "cell_type": "code",
   "execution_count": 6,
   "id": "3c051664-84b2-4f71-b01b-46439fbd2f28",
   "metadata": {},
   "outputs": [],
   "source": [
    "categories = [\n",
    "    'airplane', \n",
    "    'bicycle', \n",
    "    'bird', \n",
    "    'boat', \n",
    "    'bottle', \n",
    "    'bus',\n",
    "    'car',\n",
    "    'cat',\n",
    "    'chair',\n",
    "    'cow',\n",
    "    'dining table',\n",
    "    'dog', \n",
    "    'horse', \n",
    "    'motorcycle', \n",
    "    'person', \n",
    "    'potted plant',\n",
    "    'sheep',\n",
    "    'couch',\n",
    "    'train', \n",
    "    'TV',\n",
    "]"
   ]
  },
  {
   "cell_type": "code",
   "execution_count": 7,
   "id": "a3394589-9710-4d86-bfd7-25f944f07e32",
   "metadata": {},
   "outputs": [],
   "source": [
    "category_ids = {cat['name']: cat['id'] for cat in coco.loadCats(coco.getCatIds()) if cat['name'] in categories}\n",
    "# category_ids"
   ]
  },
  {
   "cell_type": "code",
   "execution_count": 16,
   "id": "db9b7891-d963-4af6-b9f7-3bc65dbcde64",
   "metadata": {},
   "outputs": [],
   "source": [
    "# Sampling for non-person categories\n",
    "num_images_per_category = 250\n",
    "person_instance_target = 4100"
   ]
  },
  {
   "cell_type": "markdown",
   "id": "6b1f945e-6f12-4682-b0d3-681d9dade3ee",
   "metadata": {},
   "source": [
    "## Clean all"
   ]
  },
  {
   "cell_type": "code",
   "execution_count": 17,
   "id": "7a717233-2dce-49a9-a993-c5aebeecbee5",
   "metadata": {},
   "outputs": [],
   "source": [
    "# To freshly download (erase existing data) \n",
    "clear_folder(annotations_dir)\n",
    "clear_folder(sets_dir)\n",
    "clear_folder(images_dir)"
   ]
  },
  {
   "cell_type": "markdown",
   "id": "0d4c6d05-1e82-4f10-a7c0-20f12c23ab11",
   "metadata": {},
   "source": [
    "## Sampling"
   ]
  },
  {
   "cell_type": "code",
   "execution_count": 18,
   "id": "07ad7129-db26-4064-8352-481eeaf814e0",
   "metadata": {},
   "outputs": [
    {
     "name": "stdout",
     "output_type": "stream",
     "text": [
      "Processing category: person\n",
      "Selected 980 images to meet 4100 'person' instances.\n"
     ]
    },
    {
     "name": "stderr",
     "output_type": "stream",
     "text": [
      "Downloading person images: 100%|████████████████████████████████████████████| 980/980 [02:31<00:00,  6.46it/s]\n"
     ]
    },
    {
     "name": "stdout",
     "output_type": "stream",
     "text": [
      "Completed category: person\n",
      "Processing category: bicycle\n",
      "Selected 250 images for category bicycle.\n"
     ]
    },
    {
     "name": "stderr",
     "output_type": "stream",
     "text": [
      "Downloading bicycle images: 100%|███████████████████████████████████████████| 250/250 [00:38<00:00,  6.57it/s]\n"
     ]
    },
    {
     "name": "stdout",
     "output_type": "stream",
     "text": [
      "Completed category: bicycle\n",
      "Processing category: car\n",
      "Selected 250 images for category car.\n"
     ]
    },
    {
     "name": "stderr",
     "output_type": "stream",
     "text": [
      "Downloading car images: 100%|███████████████████████████████████████████████| 250/250 [00:38<00:00,  6.45it/s]\n"
     ]
    },
    {
     "name": "stdout",
     "output_type": "stream",
     "text": [
      "Completed category: car\n",
      "Processing category: motorcycle\n",
      "Selected 250 images for category motorcycle.\n"
     ]
    },
    {
     "name": "stderr",
     "output_type": "stream",
     "text": [
      "Downloading motorcycle images: 100%|████████████████████████████████████████| 250/250 [00:37<00:00,  6.64it/s]\n"
     ]
    },
    {
     "name": "stdout",
     "output_type": "stream",
     "text": [
      "Completed category: motorcycle\n",
      "Processing category: airplane\n",
      "Selected 250 images for category airplane.\n"
     ]
    },
    {
     "name": "stderr",
     "output_type": "stream",
     "text": [
      "Downloading airplane images: 100%|██████████████████████████████████████████| 250/250 [00:39<00:00,  6.36it/s]\n"
     ]
    },
    {
     "name": "stdout",
     "output_type": "stream",
     "text": [
      "Completed category: airplane\n",
      "Processing category: bus\n",
      "Selected 250 images for category bus.\n"
     ]
    },
    {
     "name": "stderr",
     "output_type": "stream",
     "text": [
      "Downloading bus images: 100%|███████████████████████████████████████████████| 250/250 [00:38<00:00,  6.50it/s]\n"
     ]
    },
    {
     "name": "stdout",
     "output_type": "stream",
     "text": [
      "Completed category: bus\n",
      "Processing category: train\n",
      "Selected 250 images for category train.\n"
     ]
    },
    {
     "name": "stderr",
     "output_type": "stream",
     "text": [
      "Downloading train images: 100%|█████████████████████████████████████████████| 250/250 [00:38<00:00,  6.45it/s]\n"
     ]
    },
    {
     "name": "stdout",
     "output_type": "stream",
     "text": [
      "Completed category: train\n",
      "Processing category: boat\n",
      "Selected 250 images for category boat.\n"
     ]
    },
    {
     "name": "stderr",
     "output_type": "stream",
     "text": [
      "Downloading boat images: 100%|██████████████████████████████████████████████| 250/250 [00:38<00:00,  6.44it/s]\n"
     ]
    },
    {
     "name": "stdout",
     "output_type": "stream",
     "text": [
      "Completed category: boat\n",
      "Processing category: bird\n",
      "Selected 250 images for category bird.\n"
     ]
    },
    {
     "name": "stderr",
     "output_type": "stream",
     "text": [
      "Downloading bird images: 100%|██████████████████████████████████████████████| 250/250 [00:37<00:00,  6.66it/s]\n"
     ]
    },
    {
     "name": "stdout",
     "output_type": "stream",
     "text": [
      "Completed category: bird\n",
      "Processing category: cat\n",
      "Selected 250 images for category cat.\n"
     ]
    },
    {
     "name": "stderr",
     "output_type": "stream",
     "text": [
      "Downloading cat images: 100%|███████████████████████████████████████████████| 250/250 [00:36<00:00,  6.84it/s]\n"
     ]
    },
    {
     "name": "stdout",
     "output_type": "stream",
     "text": [
      "Completed category: cat\n",
      "Processing category: dog\n",
      "Selected 250 images for category dog.\n"
     ]
    },
    {
     "name": "stderr",
     "output_type": "stream",
     "text": [
      "Downloading dog images: 100%|███████████████████████████████████████████████| 250/250 [00:38<00:00,  6.56it/s]\n"
     ]
    },
    {
     "name": "stdout",
     "output_type": "stream",
     "text": [
      "Completed category: dog\n",
      "Processing category: horse\n",
      "Selected 250 images for category horse.\n"
     ]
    },
    {
     "name": "stderr",
     "output_type": "stream",
     "text": [
      "Downloading horse images: 100%|█████████████████████████████████████████████| 250/250 [00:39<00:00,  6.37it/s]\n"
     ]
    },
    {
     "name": "stdout",
     "output_type": "stream",
     "text": [
      "Completed category: horse\n",
      "Processing category: sheep\n",
      "Selected 250 images for category sheep.\n"
     ]
    },
    {
     "name": "stderr",
     "output_type": "stream",
     "text": [
      "Downloading sheep images: 100%|█████████████████████████████████████████████| 250/250 [00:42<00:00,  5.92it/s]\n"
     ]
    },
    {
     "name": "stdout",
     "output_type": "stream",
     "text": [
      "Completed category: sheep\n",
      "Processing category: cow\n",
      "Selected 250 images for category cow.\n"
     ]
    },
    {
     "name": "stderr",
     "output_type": "stream",
     "text": [
      "Downloading cow images: 100%|███████████████████████████████████████████████| 250/250 [00:42<00:00,  5.93it/s]\n"
     ]
    },
    {
     "name": "stdout",
     "output_type": "stream",
     "text": [
      "Completed category: cow\n",
      "Processing category: bottle\n",
      "Selected 250 images for category bottle.\n"
     ]
    },
    {
     "name": "stderr",
     "output_type": "stream",
     "text": [
      "Downloading bottle images: 100%|████████████████████████████████████████████| 250/250 [00:39<00:00,  6.35it/s]\n"
     ]
    },
    {
     "name": "stdout",
     "output_type": "stream",
     "text": [
      "Completed category: bottle\n",
      "Processing category: chair\n",
      "Selected 250 images for category chair.\n"
     ]
    },
    {
     "name": "stderr",
     "output_type": "stream",
     "text": [
      "Downloading chair images: 100%|█████████████████████████████████████████████| 250/250 [00:41<00:00,  6.03it/s]\n"
     ]
    },
    {
     "name": "stdout",
     "output_type": "stream",
     "text": [
      "Completed category: chair\n",
      "Processing category: couch\n",
      "Selected 250 images for category couch.\n"
     ]
    },
    {
     "name": "stderr",
     "output_type": "stream",
     "text": [
      "Downloading couch images: 100%|█████████████████████████████████████████████| 250/250 [00:36<00:00,  6.84it/s]\n"
     ]
    },
    {
     "name": "stdout",
     "output_type": "stream",
     "text": [
      "Completed category: couch\n",
      "Processing category: potted plant\n",
      "Selected 250 images for category potted plant.\n"
     ]
    },
    {
     "name": "stderr",
     "output_type": "stream",
     "text": [
      "Downloading potted plant images: 100%|██████████████████████████████████████| 250/250 [00:36<00:00,  6.78it/s]\n"
     ]
    },
    {
     "name": "stdout",
     "output_type": "stream",
     "text": [
      "Completed category: potted plant\n",
      "Processing category: dining table\n",
      "Selected 250 images for category dining table.\n"
     ]
    },
    {
     "name": "stderr",
     "output_type": "stream",
     "text": [
      "Downloading dining table images: 100%|██████████████████████████████████████| 250/250 [00:38<00:00,  6.50it/s]"
     ]
    },
    {
     "name": "stdout",
     "output_type": "stream",
     "text": [
      "Completed category: dining table\n",
      "ImageSets folder created at coco_output/ImageSets/Main.\n"
     ]
    },
    {
     "name": "stderr",
     "output_type": "stream",
     "text": [
      "\n"
     ]
    }
   ],
   "source": [
    "all_images = set()\n",
    "set.seed(429)\n",
    "\n",
    "# Prepare ImageSets data\n",
    "train_txt_path = os.path.join(sets_dir, \"train.txt\")\n",
    "category_txt_files = {}  # Initialize category-specific text files\n",
    "\n",
    "# Create category-specific text files\n",
    "for category in categories:\n",
    "    file_path = os.path.join(sets_dir, f\"{category}_train.txt\")\n",
    "    category_txt_files[category] = open(file_path, \"w\")\n",
    "\n",
    "# Dictionary to track images marked as positive for each category\n",
    "positive_samples = {category: set() for category in categories}\n",
    "\n",
    "# Process each category and collect positive samples\n",
    "for category, category_id in category_ids.items():\n",
    "    print(f\"Processing category: {category}\")\n",
    "\n",
    "    # Adjust logic for 'person' category\n",
    "    if category == 'person':\n",
    "        instance_target = person_instance_target\n",
    "        selected_image_ids = []\n",
    "        instance_count = 0\n",
    "        # Shuffle all image IDs containing 'person'\n",
    "        image_ids = coco.getImgIds(catIds=[category_id])\n",
    "        random.shuffle(image_ids)\n",
    "        # Collect images until instance_target instances are reached\n",
    "        for img_id in image_ids:\n",
    "            ann_ids = coco.getAnnIds(imgIds=[img_id], catIds=[category_id])\n",
    "            person_count = len(ann_ids)  # Number of person instances in this image\n",
    "\n",
    "            if instance_count + person_count <= instance_target:\n",
    "                selected_image_ids.append(img_id)\n",
    "                instance_count += person_count\n",
    "            else:\n",
    "                break\n",
    "        print(f\"Selected {len(selected_image_ids)} images to meet {instance_target} 'person' instances.\")\n",
    "    else:\n",
    "        # Get all image IDs for the current category\n",
    "        image_ids = coco.getImgIds(catIds=[category_id])\n",
    "        random.shuffle(image_ids)\n",
    "    \n",
    "        # Select up to `num_images_per_category`\n",
    "        selected_image_ids = image_ids[:num_images_per_category]\n",
    "        print(f\"Selected {len(selected_image_ids)} images for category {category}.\")\n",
    "    \n",
    "    # Download and annotate\n",
    "    for img_id in tqdm(selected_image_ids, desc=f\"Downloading {category} images\"):\n",
    "        img_info = coco.loadImgs(img_id)[0]\n",
    "        ann_ids = coco.getAnnIds(imgIds=[img_id], catIds=[category_id])\n",
    "        annotations = coco.loadAnns(ann_ids)\n",
    "\n",
    "        img_filename = os.path.splitext(img_info['file_name'])[0]  # Remove the file extension\n",
    "        img_filepath = os.path.join(images_dir, img_info['file_name'])\n",
    "        all_images.add(img_filename)  # Add filename without extension\n",
    "\n",
    "        try:\n",
    "            # Skip if file already exists\n",
    "            if not os.path.exists(img_filepath):\n",
    "                response = requests.get(img_info['coco_url'], stream=True, timeout=10)\n",
    "                response.raise_for_status()\n",
    "                with open(img_filepath, 'wb') as f:\n",
    "                    for chunk in response.iter_content(1024):\n",
    "                        f.write(chunk)\n",
    "            create_pascal_xml(img_info, annotations, annotations_dir)\n",
    "        except requests.exceptions.RequestException as e:\n",
    "            print(f\"Failed to download {img_info['file_name']}: {e}\")\n",
    "\n",
    "        # Track positive samples for the current category\n",
    "        positive_samples[category].add(img_filename)  # Mark as positive for this category\n",
    "\n",
    "    print(f\"Completed category: {category}\")\n",
    "\n",
    "# Sort all image filenames (without extensions)\n",
    "sorted_imgs = sorted(all_images)\n",
    "\n",
    "# Write to category-specific and train.txt files\n",
    "for img_filename in sorted_imgs:\n",
    "    for category in categories:\n",
    "        # Check if this image is positive or negative for the category\n",
    "        label = \"1\" if img_filename in positive_samples[category] else \"-1\"\n",
    "        category_txt_files[category].write(f\"{img_filename} {label}\\n\")\n",
    "\n",
    "# Write train.txt with all images (in sorted order)\n",
    "with open(train_txt_path, \"w\") as train_file:\n",
    "    for img_filename in sorted_imgs:\n",
    "        train_file.write(img_filename + \"\\n\")\n",
    "\n",
    "# Close all category-specific text files\n",
    "for file in category_txt_files.values():\n",
    "    file.close()\n",
    "\n",
    "print(f\"ImageSets folder created at {sets_dir}.\")"
   ]
  },
  {
   "cell_type": "code",
   "execution_count": null,
   "id": "5f8b21a0-6c60-40c7-b9ca-845903f117a2",
   "metadata": {},
   "outputs": [],
   "source": []
  }
 ],
 "metadata": {
  "kernelspec": {
   "display_name": "cos429",
   "language": "python",
   "name": "cos429"
  },
  "language_info": {
   "codemirror_mode": {
    "name": "ipython",
    "version": 3
   },
   "file_extension": ".py",
   "mimetype": "text/x-python",
   "name": "python",
   "nbconvert_exporter": "python",
   "pygments_lexer": "ipython3",
   "version": "3.8.18"
  }
 },
 "nbformat": 4,
 "nbformat_minor": 5
}
